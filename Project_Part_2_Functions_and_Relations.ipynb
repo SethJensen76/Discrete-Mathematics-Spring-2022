{
  "nbformat": 4,
  "nbformat_minor": 0,
  "metadata": {
    "colab": {
      "name": "Project Part 2: Functions and Relations",
      "provenance": [],
      "include_colab_link": true
    },
    "kernelspec": {
      "name": "python3",
      "display_name": "Python 3"
    }
  },
  "cells": [
    {
      "cell_type": "markdown",
      "metadata": {
        "id": "view-in-github",
        "colab_type": "text"
      },
      "source": [
        "<a href=\"https://colab.research.google.com/github/SethJensen76/Discrete-Mathematics-Spring-2022/blob/main/Project_Part_2_Functions_and_Relations.ipynb\" target=\"_parent\"><img src=\"https://colab.research.google.com/assets/colab-badge.svg\" alt=\"Open In Colab\"/></a>"
      ]
    },
    {
      "cell_type": "markdown",
      "metadata": {
        "id": "YCJaepmmfKrS"
      },
      "source": [
        "# Project Part #2 : CPSMA 3133 Discrete Mathematics \n",
        "\n",
        "## Relations and Functions\n",
        "\n",
        "### Seth Jensen 244476\n",
        "\n",
        "#### Instructor: Dr. Jacob"
      ]
    },
    {
      "cell_type": "markdown",
      "metadata": {
        "id": "_7RoPTU_hXG1"
      },
      "source": [
        "## Functions"
      ]
    },
    {
      "cell_type": "markdown",
      "metadata": {
        "id": "MMXFYCZ6hajg"
      },
      "source": [
        "There are so many different kinds of functions that I could choose to use, but the one that I think will really make some **cool** results is the following:\n",
        "\n",
        "$$\n",
        "f(x) = \\frac{10x^2}{x\\pi^3}\n",
        "$$\n",
        "\n"
      ]
    },
    {
      "cell_type": "markdown",
      "metadata": {
        "id": "Ehk7ZPSvbMk6"
      },
      "source": [
        "I feel that this next part will be the hardest out of everything because I will have to translate the function into coding language, so let's see how this goes!"
      ]
    },
    {
      "cell_type": "code",
      "metadata": {
        "id": "5U5T3Fld5X0S"
      },
      "source": [
        "import math\n",
        "import numpy as np\n",
        "\n",
        "def random(x):\n",
        "  return (10*x**2)/(x*math.pi**3)"
      ],
      "execution_count": 22,
      "outputs": []
    },
    {
      "cell_type": "markdown",
      "metadata": {
        "id": "fnz5mJf1bl7S"
      },
      "source": [
        "I am going to try a point to see if it works correctly!\n",
        "\n"
      ]
    },
    {
      "cell_type": "code",
      "metadata": {
        "id": "uLBv3fem18Uh",
        "colab": {
          "base_uri": "https://localhost:8080/"
        },
        "outputId": "a9be63d8-c065-4252-9df5-e8c4d2f99321"
      },
      "source": [
        "random(2)"
      ],
      "execution_count": 23,
      "outputs": [
        {
          "output_type": "execute_result",
          "data": {
            "text/plain": [
              "0.6450306886639898"
            ]
          },
          "metadata": {},
          "execution_count": 23
        }
      ]
    },
    {
      "cell_type": "markdown",
      "source": [
        "One more just for fun!"
      ],
      "metadata": {
        "id": "BlYz3K77lEjH"
      }
    },
    {
      "cell_type": "code",
      "source": [
        "random(100)"
      ],
      "metadata": {
        "colab": {
          "base_uri": "https://localhost:8080/"
        },
        "id": "hTlLnh5IlDtj",
        "outputId": "6d884c96-4c1e-4979-cf52-a882bef341ea"
      },
      "execution_count": 24,
      "outputs": [
        {
          "output_type": "execute_result",
          "data": {
            "text/plain": [
              "32.251534433199495"
            ]
          },
          "metadata": {},
          "execution_count": 24
        }
      ]
    },
    {
      "cell_type": "markdown",
      "metadata": {
        "id": "wTWCTNFib87K"
      },
      "source": [
        "Now I am going to attempt to graph the function. I think that the way coding can make graphs out of just a simple function like the one above is something remarkable!"
      ]
    },
    {
      "cell_type": "code",
      "metadata": {
        "id": "j29xWwmx2EWr",
        "colab": {
          "base_uri": "https://localhost:8080/",
          "height": 283
        },
        "outputId": "c5fe01e5-1979-4eac-f060-6d01e9769909"
      },
      "source": [
        "import matplotlib.pyplot as plt\n",
        "\n",
        "x = np.arange(-10,1000,.1)\n",
        "\n",
        "plt.plot(x,random(x))"
      ],
      "execution_count": 27,
      "outputs": [
        {
          "output_type": "execute_result",
          "data": {
            "text/plain": [
              "[<matplotlib.lines.Line2D at 0x7f9b0ab46e90>]"
            ]
          },
          "metadata": {},
          "execution_count": 27
        },
        {
          "output_type": "display_data",
          "data": {
            "image/png": "[encoded data removed]",
            "text/plain": [
              "<Figure size 432x288 with 1 Axes>"
            ]
          },
          "metadata": {
            "needs_background": "light"
          }
        }
      ]
    },
    {
      "cell_type": "markdown",
      "metadata": {
        "id": "0aknI3rU2usV"
      },
      "source": [
        "As you can see, the graph of the function continues to increase without bound, as I used the interval $[-10,1000]$. This seems like a really huge interval, and I am very shocked that the entirety of the graph could not be seen."
      ]
    },
    {
      "cell_type": "markdown",
      "metadata": {
        "id": "AlV-hH4Y7Gnn"
      },
      "source": [
        "### Dictionaries"
      ]
    },
    {
      "cell_type": "markdown",
      "metadata": {
        "id": "Adb_VTcw7Rr0"
      },
      "source": [
        "Next, I will define a type of dictionary that shows a relationship between two of the sets that I used last week for part 1. These being $MVP$ and $OPOTY$."
      ]
    },
    {
      "cell_type": "code",
      "metadata": {
        "id": "X2Fp1dmX7LfM"
      },
      "source": [
        "MVP = ['Aaron Rodgers', 'Tom Brady', 'Patrick Mahomes', 'Jonathon Taylor', 'Cooper Kupp']\n",
        "OPOTY = ['Aaron Rodgers', 'Tom Brady', 'Joe Burrow', 'Dak Prescott', 'Justin Herbert', 'Travis Kelce', 'Jonathon Taylor']\n",
        "\n",
        "dictionary = dict({a:b for a,b in zip(MVP, OPOTY)})"
      ],
      "execution_count": 28,
      "outputs": []
    },
    {
      "cell_type": "code",
      "metadata": {
        "id": "3tbnriA88FeV",
        "colab": {
          "base_uri": "https://localhost:8080/"
        },
        "outputId": "0b1a56c7-b87d-413d-8f72-1f8194ab2a09"
      },
      "source": [
        "dictionary"
      ],
      "execution_count": 29,
      "outputs": [
        {
          "output_type": "execute_result",
          "data": {
            "text/plain": [
              "{'Aaron Rodgers': 'Aaron Rodgers',\n",
              " 'Cooper Kupp': 'Justin Herbert',\n",
              " 'Jonathon Taylor': 'Dak Prescott',\n",
              " 'Patrick Mahomes': 'Joe Burrow',\n",
              " 'Tom Brady': 'Tom Brady'}"
            ]
          },
          "metadata": {},
          "execution_count": 29
        }
      ]
    },
    {
      "cell_type": "markdown",
      "metadata": {
        "id": "yUuWijoK8ims"
      },
      "source": [
        "This was a test to see if it would compute correctly, which it did!"
      ]
    },
    {
      "cell_type": "code",
      "metadata": {
        "id": "XJOb2Z_D8V-e"
      },
      "source": [
        "actualDictionary = dict({'Aaron Rodgers':'Tom Brady','Patrick Mahomes':'Joe Burrow', 'Jonathon Taylor':'Cooper Kupp'})\n"
      ],
      "execution_count": 30,
      "outputs": []
    },
    {
      "cell_type": "code",
      "metadata": {
        "id": "MHgozIOO9YWS"
      },
      "source": [
        "NewList = [actualDictionary.get(x,x) for x in MVP]"
      ],
      "execution_count": 31,
      "outputs": []
    },
    {
      "cell_type": "code",
      "metadata": {
        "id": "oDUGPTva9lED",
        "colab": {
          "base_uri": "https://localhost:8080/"
        },
        "outputId": "a6c21e0f-ab47-40c7-8c2d-3bb2499e95cd"
      },
      "source": [
        "NewList"
      ],
      "execution_count": 32,
      "outputs": [
        {
          "output_type": "execute_result",
          "data": {
            "text/plain": [
              "['Tom Brady', 'Tom Brady', 'Joe Burrow', 'Cooper Kupp', 'Cooper Kupp']"
            ]
          },
          "metadata": {},
          "execution_count": 32
        }
      ]
    },
    {
      "cell_type": "markdown",
      "metadata": {
        "id": "oSl27AmL9os0"
      },
      "source": [
        "First off, I noticed that this did make some changes to the original list. I believe that it would be considered transitive because there are players who are in the running for both MVP and OPOTY. I also believe that it is reflexive for the same reasons. However, I do not think it is symmetric.\n",
        "\n",
        "It would also appear to me that this would be considered bi-jective because you can put these players into any order that you want, it does not matter. In conclusion, this was a really fun thing to do, hopefully I did not mess up too much!"
      ]
    }
  ]
}