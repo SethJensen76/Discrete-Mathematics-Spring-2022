{
  "nbformat": 4,
  "nbformat_minor": 0,
  "metadata": {
    "colab": {
      "name": "Project Part 4: Counting",
      "provenance": [],
      "include_colab_link": true
    },
    "kernelspec": {
      "name": "python3",
      "display_name": "Python 3"
    }
  },
  "cells": [
    {
      "cell_type": "markdown",
      "metadata": {
        "id": "view-in-github",
        "colab_type": "text"
      },
      "source": [
        "<a href=\"https://colab.research.google.com/github/SethJensen76/Discrete-Mathematics-Spring-2022/blob/main/Project_Part_4_Counting.ipynb\" target=\"_parent\"><img src=\"https://colab.research.google.com/assets/colab-badge.svg\" alt=\"Open In Colab\"/></a>"
      ]
    },
    {
      "cell_type": "markdown",
      "metadata": {
        "id": "YCJaepmmfKrS"
      },
      "source": [
        "# Project Part 4: CPSMA 3133 Discrete Mathematics \n",
        "\n",
        "## Counting\n",
        "\n",
        "### Seth Jensen 244476\n",
        "\n",
        "\n"
      ]
    },
    {
      "cell_type": "markdown",
      "metadata": {
        "id": "khwHYr0QsKmp"
      },
      "source": [
        "So I am going to continue on my Jacks, Queens, and Kings that I used for part 3.\n",
        "\n"
      ]
    },
    {
      "cell_type": "code",
      "metadata": {
        "id": "3014601TxgnX"
      },
      "source": [
        "JQK = ['Jacks','Queens','Kings']"
      ],
      "execution_count": 10,
      "outputs": []
    },
    {
      "cell_type": "markdown",
      "metadata": {
        "id": "_7RoPTU_hXG1"
      },
      "source": [
        "## Counting"
      ]
    },
    {
      "cell_type": "markdown",
      "metadata": {
        "id": "MMXFYCZ6hajg"
      },
      "source": [
        "Since there are 3 types of cards, and multiple types of outcomes, I will be randomizing it 12 times. So it will be $3**12$"
      ]
    },
    {
      "cell_type": "code",
      "metadata": {
        "id": "5U5T3Fld5X0S",
        "colab": {
          "base_uri": "https://localhost:8080/"
        },
        "outputId": "955101a1-8bae-4887-f828-4d2aae32e640"
      },
      "source": [
        "3**12"
      ],
      "execution_count": 1,
      "outputs": [
        {
          "output_type": "execute_result",
          "data": {
            "text/plain": [
              "531441"
            ]
          },
          "metadata": {},
          "execution_count": 1
        }
      ]
    },
    {
      "cell_type": "markdown",
      "metadata": {
        "id": "ImYyRFx919R5"
      },
      "source": [
        "Since there is no specific order, and there is replacement, we will use the following formula. For example, if there are $n$ objects and $k$ slots but order does not matter, the number of ways to represent this are:\n",
        "\n",
        "$$\n",
        "\\binom{n+k-1}{k-1} = \\binom{n+k-1}{n}\n",
        "$$"
      ]
    },
    {
      "cell_type": "code",
      "metadata": {
        "id": "soDP2kUs14PV",
        "colab": {
          "base_uri": "https://localhost:8080/"
        },
        "outputId": "fec63ad4-3600-4d0b-df3d-b804f9061502"
      },
      "source": [
        "import math\n",
        "\n",
        "math.factorial(15)/(math.factorial(12)*math.factorial(3))"
      ],
      "execution_count": 8,
      "outputs": [
        {
          "output_type": "execute_result",
          "data": {
            "text/plain": [
              "455.0"
            ]
          },
          "metadata": {},
          "execution_count": 8
        }
      ]
    },
    {
      "cell_type": "markdown",
      "metadata": {
        "id": "ESWM5QfO6s8O"
      },
      "source": [
        "I feel like this is a pretty big difference than from up above!\n",
        "455 is way less than the 531,441 computed earlier.\n",
        "This is also with replacement."
      ]
    },
    {
      "cell_type": "code",
      "metadata": {
        "id": "wt4Jqvw6s-TH",
        "outputId": "4b5f1f92-f21a-4818-a811-bddb67e6f6ee",
        "colab": {
          "base_uri": "https://localhost:8080/"
        }
      },
      "source": [
        "from itertools import combinations_with_replacement\n",
        "\n",
        "print(list(combinations_with_replacement(JQK,10)))"
      ],
      "execution_count": 11,
      "outputs": [
        {
          "output_type": "stream",
          "name": "stdout",
          "text": [
            "[('Jacks', 'Jacks', 'Jacks', 'Jacks', 'Jacks', 'Jacks', 'Jacks', 'Jacks', 'Jacks', 'Jacks'), ('Jacks', 'Jacks', 'Jacks', 'Jacks', 'Jacks', 'Jacks', 'Jacks', 'Jacks', 'Jacks', 'Queens'), ('Jacks', 'Jacks', 'Jacks', 'Jacks', 'Jacks', 'Jacks', 'Jacks', 'Jacks', 'Jacks', 'Kings'), ('Jacks', 'Jacks', 'Jacks', 'Jacks', 'Jacks', 'Jacks', 'Jacks', 'Jacks', 'Queens', 'Queens'), ('Jacks', 'Jacks', 'Jacks', 'Jacks', 'Jacks', 'Jacks', 'Jacks', 'Jacks', 'Queens', 'Kings'), ('Jacks', 'Jacks', 'Jacks', 'Jacks', 'Jacks', 'Jacks', 'Jacks', 'Jacks', 'Kings', 'Kings'), ('Jacks', 'Jacks', 'Jacks', 'Jacks', 'Jacks', 'Jacks', 'Jacks', 'Queens', 'Queens', 'Queens'), ('Jacks', 'Jacks', 'Jacks', 'Jacks', 'Jacks', 'Jacks', 'Jacks', 'Queens', 'Queens', 'Kings'), ('Jacks', 'Jacks', 'Jacks', 'Jacks', 'Jacks', 'Jacks', 'Jacks', 'Queens', 'Kings', 'Kings'), ('Jacks', 'Jacks', 'Jacks', 'Jacks', 'Jacks', 'Jacks', 'Jacks', 'Kings', 'Kings', 'Kings'), ('Jacks', 'Jacks', 'Jacks', 'Jacks', 'Jacks', 'Jacks', 'Queens', 'Queens', 'Queens', 'Queens'), ('Jacks', 'Jacks', 'Jacks', 'Jacks', 'Jacks', 'Jacks', 'Queens', 'Queens', 'Queens', 'Kings'), ('Jacks', 'Jacks', 'Jacks', 'Jacks', 'Jacks', 'Jacks', 'Queens', 'Queens', 'Kings', 'Kings'), ('Jacks', 'Jacks', 'Jacks', 'Jacks', 'Jacks', 'Jacks', 'Queens', 'Kings', 'Kings', 'Kings'), ('Jacks', 'Jacks', 'Jacks', 'Jacks', 'Jacks', 'Jacks', 'Kings', 'Kings', 'Kings', 'Kings'), ('Jacks', 'Jacks', 'Jacks', 'Jacks', 'Jacks', 'Queens', 'Queens', 'Queens', 'Queens', 'Queens'), ('Jacks', 'Jacks', 'Jacks', 'Jacks', 'Jacks', 'Queens', 'Queens', 'Queens', 'Queens', 'Kings'), ('Jacks', 'Jacks', 'Jacks', 'Jacks', 'Jacks', 'Queens', 'Queens', 'Queens', 'Kings', 'Kings'), ('Jacks', 'Jacks', 'Jacks', 'Jacks', 'Jacks', 'Queens', 'Queens', 'Kings', 'Kings', 'Kings'), ('Jacks', 'Jacks', 'Jacks', 'Jacks', 'Jacks', 'Queens', 'Kings', 'Kings', 'Kings', 'Kings'), ('Jacks', 'Jacks', 'Jacks', 'Jacks', 'Jacks', 'Kings', 'Kings', 'Kings', 'Kings', 'Kings'), ('Jacks', 'Jacks', 'Jacks', 'Jacks', 'Queens', 'Queens', 'Queens', 'Queens', 'Queens', 'Queens'), ('Jacks', 'Jacks', 'Jacks', 'Jacks', 'Queens', 'Queens', 'Queens', 'Queens', 'Queens', 'Kings'), ('Jacks', 'Jacks', 'Jacks', 'Jacks', 'Queens', 'Queens', 'Queens', 'Queens', 'Kings', 'Kings'), ('Jacks', 'Jacks', 'Jacks', 'Jacks', 'Queens', 'Queens', 'Queens', 'Kings', 'Kings', 'Kings'), ('Jacks', 'Jacks', 'Jacks', 'Jacks', 'Queens', 'Queens', 'Kings', 'Kings', 'Kings', 'Kings'), ('Jacks', 'Jacks', 'Jacks', 'Jacks', 'Queens', 'Kings', 'Kings', 'Kings', 'Kings', 'Kings'), ('Jacks', 'Jacks', 'Jacks', 'Jacks', 'Kings', 'Kings', 'Kings', 'Kings', 'Kings', 'Kings'), ('Jacks', 'Jacks', 'Jacks', 'Queens', 'Queens', 'Queens', 'Queens', 'Queens', 'Queens', 'Queens'), ('Jacks', 'Jacks', 'Jacks', 'Queens', 'Queens', 'Queens', 'Queens', 'Queens', 'Queens', 'Kings'), ('Jacks', 'Jacks', 'Jacks', 'Queens', 'Queens', 'Queens', 'Queens', 'Queens', 'Kings', 'Kings'), ('Jacks', 'Jacks', 'Jacks', 'Queens', 'Queens', 'Queens', 'Queens', 'Kings', 'Kings', 'Kings'), ('Jacks', 'Jacks', 'Jacks', 'Queens', 'Queens', 'Queens', 'Kings', 'Kings', 'Kings', 'Kings'), ('Jacks', 'Jacks', 'Jacks', 'Queens', 'Queens', 'Kings', 'Kings', 'Kings', 'Kings', 'Kings'), ('Jacks', 'Jacks', 'Jacks', 'Queens', 'Kings', 'Kings', 'Kings', 'Kings', 'Kings', 'Kings'), ('Jacks', 'Jacks', 'Jacks', 'Kings', 'Kings', 'Kings', 'Kings', 'Kings', 'Kings', 'Kings'), ('Jacks', 'Jacks', 'Queens', 'Queens', 'Queens', 'Queens', 'Queens', 'Queens', 'Queens', 'Queens'), ('Jacks', 'Jacks', 'Queens', 'Queens', 'Queens', 'Queens', 'Queens', 'Queens', 'Queens', 'Kings'), ('Jacks', 'Jacks', 'Queens', 'Queens', 'Queens', 'Queens', 'Queens', 'Queens', 'Kings', 'Kings'), ('Jacks', 'Jacks', 'Queens', 'Queens', 'Queens', 'Queens', 'Queens', 'Kings', 'Kings', 'Kings'), ('Jacks', 'Jacks', 'Queens', 'Queens', 'Queens', 'Queens', 'Kings', 'Kings', 'Kings', 'Kings'), ('Jacks', 'Jacks', 'Queens', 'Queens', 'Queens', 'Kings', 'Kings', 'Kings', 'Kings', 'Kings'), ('Jacks', 'Jacks', 'Queens', 'Queens', 'Kings', 'Kings', 'Kings', 'Kings', 'Kings', 'Kings'), ('Jacks', 'Jacks', 'Queens', 'Kings', 'Kings', 'Kings', 'Kings', 'Kings', 'Kings', 'Kings'), ('Jacks', 'Jacks', 'Kings', 'Kings', 'Kings', 'Kings', 'Kings', 'Kings', 'Kings', 'Kings'), ('Jacks', 'Queens', 'Queens', 'Queens', 'Queens', 'Queens', 'Queens', 'Queens', 'Queens', 'Queens'), ('Jacks', 'Queens', 'Queens', 'Queens', 'Queens', 'Queens', 'Queens', 'Queens', 'Queens', 'Kings'), ('Jacks', 'Queens', 'Queens', 'Queens', 'Queens', 'Queens', 'Queens', 'Queens', 'Kings', 'Kings'), ('Jacks', 'Queens', 'Queens', 'Queens', 'Queens', 'Queens', 'Queens', 'Kings', 'Kings', 'Kings'), ('Jacks', 'Queens', 'Queens', 'Queens', 'Queens', 'Queens', 'Kings', 'Kings', 'Kings', 'Kings'), ('Jacks', 'Queens', 'Queens', 'Queens', 'Queens', 'Kings', 'Kings', 'Kings', 'Kings', 'Kings'), ('Jacks', 'Queens', 'Queens', 'Queens', 'Kings', 'Kings', 'Kings', 'Kings', 'Kings', 'Kings'), ('Jacks', 'Queens', 'Queens', 'Kings', 'Kings', 'Kings', 'Kings', 'Kings', 'Kings', 'Kings'), ('Jacks', 'Queens', 'Kings', 'Kings', 'Kings', 'Kings', 'Kings', 'Kings', 'Kings', 'Kings'), ('Jacks', 'Kings', 'Kings', 'Kings', 'Kings', 'Kings', 'Kings', 'Kings', 'Kings', 'Kings'), ('Queens', 'Queens', 'Queens', 'Queens', 'Queens', 'Queens', 'Queens', 'Queens', 'Queens', 'Queens'), ('Queens', 'Queens', 'Queens', 'Queens', 'Queens', 'Queens', 'Queens', 'Queens', 'Queens', 'Kings'), ('Queens', 'Queens', 'Queens', 'Queens', 'Queens', 'Queens', 'Queens', 'Queens', 'Kings', 'Kings'), ('Queens', 'Queens', 'Queens', 'Queens', 'Queens', 'Queens', 'Queens', 'Kings', 'Kings', 'Kings'), ('Queens', 'Queens', 'Queens', 'Queens', 'Queens', 'Queens', 'Kings', 'Kings', 'Kings', 'Kings'), ('Queens', 'Queens', 'Queens', 'Queens', 'Queens', 'Kings', 'Kings', 'Kings', 'Kings', 'Kings'), ('Queens', 'Queens', 'Queens', 'Queens', 'Kings', 'Kings', 'Kings', 'Kings', 'Kings', 'Kings'), ('Queens', 'Queens', 'Queens', 'Kings', 'Kings', 'Kings', 'Kings', 'Kings', 'Kings', 'Kings'), ('Queens', 'Queens', 'Kings', 'Kings', 'Kings', 'Kings', 'Kings', 'Kings', 'Kings', 'Kings'), ('Queens', 'Kings', 'Kings', 'Kings', 'Kings', 'Kings', 'Kings', 'Kings', 'Kings', 'Kings'), ('Kings', 'Kings', 'Kings', 'Kings', 'Kings', 'Kings', 'Kings', 'Kings', 'Kings', 'Kings')]\n"
          ]
        }
      ]
    },
    {
      "cell_type": "markdown",
      "metadata": {
        "id": "u7JEQe8WuHfl"
      },
      "source": [
        "It has the correct number of elements, really long list of them though..."
      ]
    },
    {
      "cell_type": "code",
      "metadata": {
        "id": "PbZFC96MuLEO",
        "outputId": "2217a2ea-95bb-40ae-e38e-d0cda4503376",
        "colab": {
          "base_uri": "https://localhost:8080/"
        }
      },
      "source": [
        "len(list(combinations_with_replacement(JQK,52)))"
      ],
      "execution_count": 14,
      "outputs": [
        {
          "output_type": "execute_result",
          "data": {
            "text/plain": [
              "1431"
            ]
          },
          "metadata": {},
          "execution_count": 14
        }
      ]
    },
    {
      "cell_type": "markdown",
      "source": [
        "This is interesting to me!"
      ],
      "metadata": {
        "id": "wA9G5oRYsrR6"
      }
    },
    {
      "cell_type": "markdown",
      "metadata": {
        "id": "y88um8aAuWKX"
      },
      "source": [
        "## Without replacement"
      ]
    },
    {
      "cell_type": "markdown",
      "metadata": {
        "id": "QkEEuL3Ysz8_"
      },
      "source": [
        "Since I can't do all 15 with replacement, and order matters here, I will only be doing 3, which is all I can do!"
      ]
    },
    {
      "cell_type": "code",
      "metadata": {
        "id": "8rU6K0XU2e9w",
        "colab": {
          "base_uri": "https://localhost:8080/"
        },
        "outputId": "fffb272f-0393-4b7f-e111-cf85caec4c66"
      },
      "source": [
        "print(math.factorial(3))\n"
      ],
      "execution_count": 20,
      "outputs": [
        {
          "output_type": "stream",
          "name": "stdout",
          "text": [
            "6\n"
          ]
        }
      ]
    },
    {
      "cell_type": "markdown",
      "metadata": {
        "id": "ceTp1P2-uu_K"
      },
      "source": [
        "I'll do the rest of them as well..."
      ]
    },
    {
      "cell_type": "code",
      "metadata": {
        "id": "uXQsrlisuuON",
        "outputId": "54207f58-ce12-4236-92e8-7a380f40cfd1",
        "colab": {
          "base_uri": "https://localhost:8080/"
        }
      },
      "source": [
        "from itertools import permutations\n",
        "print(list(permutations(JQK,3)))"
      ],
      "execution_count": 21,
      "outputs": [
        {
          "output_type": "stream",
          "name": "stdout",
          "text": [
            "[('Jacks', 'Queens', 'Kings'), ('Jacks', 'Kings', 'Queens'), ('Queens', 'Jacks', 'Kings'), ('Queens', 'Kings', 'Jacks'), ('Kings', 'Jacks', 'Queens'), ('Kings', 'Queens', 'Jacks')]\n"
          ]
        }
      ]
    },
    {
      "cell_type": "markdown",
      "metadata": {
        "id": "B3dNLbo-u0Si"
      },
      "source": [
        "When order doesn't matter, the following will happen:"
      ]
    },
    {
      "cell_type": "code",
      "metadata": {
        "id": "xX_OCLDv6d1k",
        "colab": {
          "base_uri": "https://localhost:8080/"
        },
        "outputId": "e5e5a6f7-2927-4857-9723-ce6ed1edfb93"
      },
      "source": [
        "math.factorial(3)/(math.factorial(3)*math.factorial(1))"
      ],
      "execution_count": 22,
      "outputs": [
        {
          "output_type": "execute_result",
          "data": {
            "text/plain": [
              "1.0"
            ]
          },
          "metadata": {},
          "execution_count": 22
        }
      ]
    },
    {
      "cell_type": "markdown",
      "source": [
        "This is interesting that it would equal out to 1, so that means that only the following can happen:"
      ],
      "metadata": {
        "id": "uLjQuTeUt3KJ"
      }
    },
    {
      "cell_type": "code",
      "metadata": {
        "id": "t9CzDaMRu5lr",
        "outputId": "c7618a2f-34e1-4996-d66e-9b7c4bb691c5",
        "colab": {
          "base_uri": "https://localhost:8080/"
        }
      },
      "source": [
        "from itertools import combinations\n",
        "print(list(combinations(JQK,3)))\n"
      ],
      "execution_count": 23,
      "outputs": [
        {
          "output_type": "stream",
          "name": "stdout",
          "text": [
            "[('Jacks', 'Queens', 'Kings')]\n"
          ]
        }
      ]
    },
    {
      "cell_type": "markdown",
      "metadata": {
        "id": "23l2G0lW7tPZ"
      },
      "source": [
        "Alright, I'm done! I found this very interesting and fun. Please let me know if I did anything wrong, right, or both!"
      ]
    }
  ]
}