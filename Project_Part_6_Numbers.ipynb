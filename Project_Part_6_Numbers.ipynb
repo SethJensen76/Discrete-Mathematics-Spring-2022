{
  "nbformat": 4,
  "nbformat_minor": 0,
  "metadata": {
    "colab": {
      "name": "Project Part 6: Numbers",
      "provenance": [],
      "collapsed_sections": [],
      "include_colab_link": true
    },
    "kernelspec": {
      "name": "python3",
      "display_name": "Python 3"
    }
  },
  "cells": [
    {
      "cell_type": "markdown",
      "metadata": {
        "id": "view-in-github",
        "colab_type": "text"
      },
      "source": [
        "<a href=\"https://colab.research.google.com/github/SethJensen76/Discrete-Mathematics-Spring-2022/blob/main/Project_Part_6_Numbers.ipynb\" target=\"_parent\"><img src=\"https://colab.research.google.com/assets/colab-badge.svg\" alt=\"Open In Colab\"/></a>"
      ]
    },
    {
      "cell_type": "markdown",
      "metadata": {
        "id": "YCJaepmmfKrS"
      },
      "source": [
        "# Project Part #6 : CPSMA 3133 Discrete Mathematics \n",
        "\n",
        "## Numbers\n",
        "\n",
        "### Seth Jensen 244476\n",
        "\n",
        "\n"
      ]
    },
    {
      "cell_type": "markdown",
      "metadata": {
        "id": "Xs_Pvtua1Nnt"
      },
      "source": [
        "##The Code"
      ]
    },
    {
      "cell_type": "markdown",
      "metadata": {
        "id": "2z6U1aB_fQDM"
      },
      "source": [
        "So to start off, I'm going to be converting the number 24,036 sub 7 into a base ten, which will calculate as follows: "
      ]
    },
    {
      "cell_type": "code",
      "metadata": {
        "id": "rU_BgC_kfH7g",
        "colab": {
          "base_uri": "https://localhost:8080/"
        },
        "outputId": "b9e71c4d-3ad5-44b3-9c36-7643528377e2"
      },
      "source": [
        "int('24036',7)"
      ],
      "execution_count": 1,
      "outputs": [
        {
          "output_type": "execute_result",
          "data": {
            "text/plain": [
              "6201"
            ]
          },
          "metadata": {},
          "execution_count": 1
        }
      ]
    },
    {
      "cell_type": "markdown",
      "source": [
        "Next, I'm going to convert 72e3 into a base 10. I found this to be quite interesting because the code was a little different to me!"
      ],
      "metadata": {
        "id": "HnRnJcXlFbWn"
      }
    },
    {
      "cell_type": "code",
      "source": [
        "int('72e3', 16)"
      ],
      "metadata": {
        "colab": {
          "base_uri": "https://localhost:8080/"
        },
        "id": "BTz78OVyFTsi",
        "outputId": "93c56784-5779-4c9d-f63e-79310ad25159"
      },
      "execution_count": 5,
      "outputs": [
        {
          "output_type": "execute_result",
          "data": {
            "text/plain": [
              "29411"
            ]
          },
          "metadata": {},
          "execution_count": 5
        }
      ]
    },
    {
      "cell_type": "markdown",
      "source": [
        "Next, to convert the original base number 10, 3735928559 to hexadecimal (whatever that means lol)"
      ],
      "metadata": {
        "id": "W_pbISBJF4EZ"
      }
    },
    {
      "cell_type": "code",
      "source": [
        "from math import floor\n",
        "  \n",
        "total = ''\n",
        "count = 0\n",
        "number = 3735928559\n",
        "\n",
        "def convert(number):\n",
        "    m = number % 16\n",
        "    h = ''\n",
        "    if m == 10: \n",
        "      h = 'a'\n",
        "    elif m == 11:\n",
        "      h = 'b'\n",
        "    elif m == 12:\n",
        "      h = 'c'\n",
        "    elif m == 13:\n",
        "      h = 'd'\n",
        "    elif m == 14: \n",
        "      h = 'e'\n",
        "    elif m == 15:\n",
        "      h = 'f'\n",
        "    else:\n",
        "      h = str(m)\n",
        "    return h\n",
        "\n",
        "while number > 15:\n",
        "     total = convert(number) + total\n",
        "     number = floor(number/16)\n",
        "\n",
        "total = convert(number) + total\n",
        "\n",
        "total                     \n"
      ],
      "metadata": {
        "colab": {
          "base_uri": "https://localhost:8080/",
          "height": 36
        },
        "id": "Bf4TCs-HFU3C",
        "outputId": "2b6498d0-94fa-4206-f99b-23839521e389"
      },
      "execution_count": 14,
      "outputs": [
        {
          "output_type": "execute_result",
          "data": {
            "application/vnd.google.colaboratory.intrinsic+json": {
              "type": "string"
            },
            "text/plain": [
              "'deadbeef'"
            ]
          },
          "metadata": {},
          "execution_count": 14
        }
      ]
    },
    {
      "cell_type": "markdown",
      "source": [
        "We can see that this produces the phrase \"deadbeef.\" I found this code to be quite difficult, so I had to look over some of my classmates work to try and see what exactly it wanted. Just trying to be honest! And finally, I am going to print 25-37 using two's complement!"
      ],
      "metadata": {
        "id": "gw_OifiMHPnn"
      }
    },
    {
      "cell_type": "code",
      "source": [
        "print(25+(-37))"
      ],
      "metadata": {
        "colab": {
          "base_uri": "https://localhost:8080/"
        },
        "id": "9FTDtq6kHb2o",
        "outputId": "9fc11c75-e233-45a0-992b-c6dc09273227"
      },
      "execution_count": 10,
      "outputs": [
        {
          "output_type": "stream",
          "name": "stdout",
          "text": [
            "-12\n"
          ]
        }
      ]
    },
    {
      "cell_type": "code",
      "source": [
        "print(25-37)"
      ],
      "metadata": {
        "colab": {
          "base_uri": "https://localhost:8080/"
        },
        "id": "jDd2VNXSOo18",
        "outputId": "2a9a0747-94eb-4acc-dfe3-843bd3327507"
      },
      "execution_count": 11,
      "outputs": [
        {
          "output_type": "stream",
          "name": "stdout",
          "text": [
            "-12\n"
          ]
        }
      ]
    },
    {
      "cell_type": "markdown",
      "source": [
        "As you can see, they both equal -12, which is really cool to me! Overall, I found this section to be quite difficult. Binary is not something that I generally do, or am good at. I hope that all of the calculations were correct, and please let me know if I did something wrong, or even if I did something right!"
      ],
      "metadata": {
        "id": "n7iFV84kHjCW"
      }
    }
  ]
}