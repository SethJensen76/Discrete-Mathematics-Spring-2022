{
  "nbformat": 4,
  "nbformat_minor": 0,
  "metadata": {
    "colab": {
      "name": "Project Part 8: Proofs",
      "provenance": [],
      "include_colab_link": true
    },
    "kernelspec": {
      "name": "python3",
      "display_name": "Python 3"
    }
  },
  "cells": [
    {
      "cell_type": "markdown",
      "metadata": {
        "id": "view-in-github",
        "colab_type": "text"
      },
      "source": [
        "<a href=\"https://colab.research.google.com/github/SethJensen76/Discrete-Mathematics-Spring-2022/blob/main/Project_Part_8_Proofs.ipynb\" target=\"_parent\"><img src=\"https://colab.research.google.com/assets/colab-badge.svg\" alt=\"Open In Colab\"/></a>"
      ]
    },
    {
      "cell_type": "markdown",
      "metadata": {
        "id": "YCJaepmmfKrS"
      },
      "source": [
        "# Project Part # 8 : CPSMA 3913 Discrete Math\n",
        "\n",
        "## Proof\n",
        "\n",
        "## Seth Jensen 244476\n",
        "\n",
        "\n"
      ]
    },
    {
      "cell_type": "markdown",
      "metadata": {
        "id": "_7RoPTU_hXG1"
      },
      "source": [
        "## Proof "
      ]
    },
    {
      "cell_type": "markdown",
      "metadata": {
        "id": "MMXFYCZ6hajg"
      },
      "source": [
        "So to start off, I am going to prove that the point down below is an intercept of the following equation.\n",
        "$$ y = 2x+3$$\n",
        "$(0,3)$.\n",
        "\n",
        "Now that that's settled, let's get to the graph!"
      ]
    },
    {
      "cell_type": "code",
      "metadata": {
        "id": "5U5T3Fld5X0S",
        "colab": {
          "base_uri": "https://localhost:8080/",
          "height": 265
        },
        "outputId": "456a9bc4-f93b-410d-bec1-95f44746dde3"
      },
      "source": [
        "import matplotlib.pyplot as plt\n",
        "import numpy as np\n",
        "\n",
        "x = np.arange(2,3,.1) \n",
        "\n",
        "plt.plot(2*x+3)\n",
        "plt.scatter(2,7.4, c='red',s = 60)\n",
        "plt.scatter(3,7.6,c='red',s = 60)\n",
        "plt.show()"
      ],
      "execution_count": 14,
      "outputs": [
        {
          "output_type": "display_data",
          "data": {
            "image/png": "[encoded data removed]",
            "text/plain": [
              "<Figure size 432x288 with 1 Axes>"
            ]
          },
          "metadata": {
            "needs_background": "light"
          }
        }
      ]
    },
    {
      "cell_type": "markdown",
      "metadata": {
        "id": "-4vy_UfzNaBa"
      },
      "source": [
        "For the proof we are going to see whether or not the original assigned number of 3 is the y-intercept for the formula. In order to do that, we will work out y=mx+b for (0,3)"
      ]
    },
    {
      "cell_type": "code",
      "metadata": {
        "colab": {
          "base_uri": "https://localhost:8080/"
        },
        "id": "wMT2FXbQMggt",
        "outputId": "f160887b-692f-466c-c1b1-c62afc3f2708"
      },
      "source": [
        "3 == 3*0+3"
      ],
      "execution_count": 15,
      "outputs": [
        {
          "output_type": "execute_result",
          "data": {
            "text/plain": [
              "True"
            ]
          },
          "metadata": {},
          "execution_count": 15
        }
      ]
    },
    {
      "cell_type": "markdown",
      "source": [
        "As we can see, it is true! So this means that 3 is the y-intercept. With all that done, let me take a moment to exlain this part of the project in my own words. I found this fun and quite difficult actually. I am in Intro to Theorem Proving, and I am still struggling with these proofs somewhat, they just seem so vague to me, but I do feel as if as the semester chugs along, that I am improving. Anyway, sorry for the monologue, but I hope I did everything correctly, and if I didn't, please don't hesitate to let me know!"
      ],
      "metadata": {
        "id": "VLv-yg407n6M"
      }
    }
  ]
}